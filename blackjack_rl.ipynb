{
 "cells": [
  {
   "cell_type": "code",
   "execution_count": 1,
   "id": "fa5bb8cc",
   "metadata": {},
   "outputs": [],
   "source": [
    "import gymnasium as gym\n",
    "import ale_py\n",
    "import numpy as np\n",
    "#blackjack = gym.make\n",
    "gym.register_envs(ale_py)\n",
    "#for key in gym.envs.registry.keys():\n",
    "#  print(key)"
   ]
  },
  {
   "cell_type": "code",
   "execution_count": 8,
   "id": "5b25600e",
   "metadata": {},
   "outputs": [
    {
     "name": "stdout",
     "output_type": "stream",
     "text": [
      "False\n",
      "False\n"
     ]
    }
   ],
   "source": [
    "blackjack_env = gym.make(\"Blackjack-v1\", render_mode=\"human\")\n",
    "observation, info = blackjack_env.reset()\n",
    "\n",
    "episode_over = False\n",
    "while not episode_over:\n",
    "    # randomly sample an action\n",
    "    action = blackjack_env.action_space.sample()\n",
    "\n",
    "    # obtain partially observed state, reward, if the state is done, if we've exceeded time, and other info\n",
    "    # by stepping through the environment using our action\n",
    "    observation, reward, terminated, truncated, info = blackjack_env.step(action)\n",
    "    print(episode_over)\n",
    "\n",
    "    # if our state is terminal, or we have reached the time limit, end\n",
    "    episode_over = terminated or truncated\n",
    "\n",
    "# close our environment.\n",
    "blackjack_env.close()"
   ]
  },
  {
   "cell_type": "markdown",
   "id": "fcad41a3",
   "metadata": {},
   "source": [
    "The above cell contains code to render a blackjack environment, and take random actions on it. It doesn't lead to very good performance. Let's change that using a simple RL algorithm.\n",
    "\n",
    "Let's analyze the environment characteristics and see what we can do."
   ]
  },
  {
   "cell_type": "code",
   "execution_count": 6,
   "id": "5223457b",
   "metadata": {},
   "outputs": [
    {
     "name": "stdout",
     "output_type": "stream",
     "text": [
      "Discrete(32)\n",
      "Discrete(11)\n",
      "Discrete(2)\n",
      "Discrete(2)\n",
      "Flattened number of states: 704\n",
      "Flattened number of actions: 2\n"
     ]
    }
   ],
   "source": [
    "blackjack_q_learning_env = gym.make(\"Blackjack-v1\")\n",
    "\n",
    "\n",
    "print(blackjack_q_learning_env.observation_space[0])\n",
    "print(blackjack_q_learning_env.observation_space[1])\n",
    "print(blackjack_q_learning_env.observation_space[2])\n",
    "print(blackjack_q_learning_env.action_space)\n",
    "flattened_number_of_states = 32 * 11 * 2\n",
    "number_of_actions = 2\n",
    "print(f\"Flattened number of states: {flattened_number_of_states}\")\n",
    "print(f\"Flattened number of actions: {number_of_actions}\")\n",
    "\n",
    "# initialize Q function\n",
    "Q_function = np.zeros((flattened_number_of_states,number_of_actions))\n",
    "\n",
    "# set number of epochs\n",
    "num_epochs = 100\n",
    "# set number of timesteps per epoch\n",
    "num_timesteps_per_epoch = 100 \n"
   ]
  },
  {
   "cell_type": "code",
   "execution_count": 17,
   "id": "75998fad",
   "metadata": {},
   "outputs": [
    {
     "name": "stdout",
     "output_type": "stream",
     "text": [
      "observation: (12, 3, 0)\n",
      "random action: 1\n",
      "reward: 0.0\n",
      "observation: (19, 3, 0)\n",
      "random action: 1\n",
      "reward: -1.0\n"
     ]
    }
   ],
   "source": [
    "## main Q-function training loop on the blackjack environment\n",
    "\n",
    "# NOTE: We'll need to find a way to save the trained policy\n",
    "E = num_epochs\n",
    "T = num_timesteps_per_epoch\n",
    "for epoch in range(E):\n",
    "  timestep = 0\n",
    "  obs, info = blackjack_q_learning_env.reset()\n",
    "  while timestep < T:\n",
    "    print(f\"observation: {obs}\")\n",
    "    random_action = blackjack_q_learning_env.action_space.sample()\n",
    "    print(f\"random action: {random_action}\")\n",
    "    next_obs, reward, terminated, truncated, info = blackjack_q_learning_env.step(random_action)\n",
    "    print(f\"reward: {reward}\")\n",
    "    if terminated or truncated:\n",
    "      break\n",
    "    # do some work here to process next_obs\n",
    "    obs = next_obs\n",
    "    timestep += 1 # update the timestep to match the changed environment\n",
    "  break\n",
    "  "
   ]
  },
  {
   "cell_type": "code",
   "execution_count": null,
   "id": "ac05dfeb",
   "metadata": {},
   "outputs": [],
   "source": []
  }
 ],
 "metadata": {
  "kernelspec": {
   "display_name": "gymnasium",
   "language": "python",
   "name": "python3"
  },
  "language_info": {
   "codemirror_mode": {
    "name": "ipython",
    "version": 3
   },
   "file_extension": ".py",
   "mimetype": "text/x-python",
   "name": "python",
   "nbconvert_exporter": "python",
   "pygments_lexer": "ipython3",
   "version": "3.10.17"
  }
 },
 "nbformat": 4,
 "nbformat_minor": 5
}
