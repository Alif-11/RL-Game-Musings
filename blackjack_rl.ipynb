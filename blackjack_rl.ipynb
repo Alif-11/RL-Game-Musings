{
 "cells": [
  {
   "cell_type": "code",
   "execution_count": 10,
   "id": "fa5bb8cc",
   "metadata": {},
   "outputs": [],
   "source": [
    "import gymnasium as gym\n",
    "import ale_py\n",
    "import numpy as np\n",
    "#blackjack = gym.make\n",
    "gym.register_envs(ale_py)\n",
    "#for key in gym.envs.registry.keys():\n",
    "#  print(key)"
   ]
  },
  {
   "cell_type": "code",
   "execution_count": 8,
   "id": "5b25600e",
   "metadata": {},
   "outputs": [
    {
     "name": "stdout",
     "output_type": "stream",
     "text": [
      "False\n",
      "False\n"
     ]
    }
   ],
   "source": [
    "blackjack_env = gym.make(\"Blackjack-v1\", render_mode=\"human\")\n",
    "observation, info = blackjack_env.reset()\n",
    "\n",
    "episode_over = False\n",
    "while not episode_over:\n",
    "    # randomly sample an action\n",
    "    action = blackjack_env.action_space.sample()\n",
    "\n",
    "    # obtain partially observed state, reward, if the state is done, if we've exceeded time, and other info\n",
    "    # by stepping through the environment using our action\n",
    "    observation, reward, terminated, truncated, info = blackjack_env.step(action)\n",
    "    print(episode_over)\n",
    "\n",
    "    # if our state is terminal, or we have reached the time limit, end\n",
    "    episode_over = terminated or truncated\n",
    "\n",
    "# close our environment.\n",
    "blackjack_env.close()"
   ]
  },
  {
   "cell_type": "markdown",
   "id": "fcad41a3",
   "metadata": {},
   "source": [
    "The above cell contains code to render a blackjack environment, and take random actions on it. It doesn't lead to very good performance. Let's change that using a simple RL algorithm.\n",
    "\n",
    "Let's analyze the environment characteristics and see what we can do."
   ]
  },
  {
   "cell_type": "code",
   "execution_count": 11,
   "id": "5223457b",
   "metadata": {},
   "outputs": [
    {
     "name": "stdout",
     "output_type": "stream",
     "text": [
      "Discrete(32)\n",
      "Discrete(11)\n",
      "Discrete(2)\n",
      "Discrete(2)\n",
      "Flattened number of states: 704\n",
      "Flattened number of actions: 2\n"
     ]
    }
   ],
   "source": [
    "blackjack_q_learning_env = gym.make(\"Blackjack-v1\")\n",
    "\n",
    "\n",
    "print(blackjack_q_learning_env.observation_space[0])\n",
    "print(blackjack_q_learning_env.observation_space[1])\n",
    "print(blackjack_q_learning_env.observation_space[2])\n",
    "print(blackjack_q_learning_env.action_space)\n",
    "flattened_number_of_states = 32 * 11 * 2\n",
    "number_of_actions = 2\n",
    "print(f\"Flattened number of states: {flattened_number_of_states}\")\n",
    "print(f\"Flattened number of actions: {number_of_actions}\")\n",
    "\n",
    "# initialize Q function\n",
    "Q_function = np.empty((flattened_number_of_states,number_of_actions))\n",
    "\n",
    "# set number of epochs\n",
    "num_epochs = 100\n",
    "# set number of timesteps per epoch\n",
    "num_timesteps_per_epoch = 100 \n"
   ]
  },
  {
   "cell_type": "code",
   "execution_count": 15,
   "id": "75998fad",
   "metadata": {},
   "outputs": [
    {
     "name": "stdout",
     "output_type": "stream",
     "text": [
      "initial_state: (14, 10, 0)\n",
      "initial_state: (18, 6, 0)\n",
      "initial_state: (16, 7, 0)\n",
      "initial_state: (10, 4, 0)\n",
      "initial_state: (17, 10, 1)\n",
      "initial_state: (10, 2, 0)\n",
      "initial_state: (21, 8, 1)\n",
      "initial_state: (20, 7, 1)\n",
      "initial_state: (12, 4, 0)\n",
      "initial_state: (16, 10, 0)\n",
      "initial_state: (8, 2, 0)\n",
      "initial_state: (16, 2, 0)\n",
      "initial_state: (12, 8, 0)\n",
      "initial_state: (12, 10, 0)\n",
      "initial_state: (19, 10, 0)\n",
      "initial_state: (15, 1, 0)\n",
      "initial_state: (19, 4, 1)\n",
      "initial_state: (12, 7, 0)\n",
      "initial_state: (12, 8, 0)\n",
      "initial_state: (13, 10, 1)\n",
      "initial_state: (19, 1, 0)\n",
      "initial_state: (11, 9, 0)\n",
      "initial_state: (6, 8, 0)\n",
      "initial_state: (17, 7, 0)\n",
      "initial_state: (11, 7, 0)\n",
      "initial_state: (18, 7, 0)\n",
      "initial_state: (20, 7, 0)\n",
      "initial_state: (16, 2, 0)\n",
      "initial_state: (16, 10, 0)\n",
      "initial_state: (16, 4, 0)\n",
      "initial_state: (7, 9, 0)\n",
      "initial_state: (21, 8, 1)\n",
      "initial_state: (4, 7, 0)\n",
      "initial_state: (10, 1, 0)\n",
      "initial_state: (20, 8, 0)\n",
      "initial_state: (13, 1, 0)\n",
      "initial_state: (13, 1, 0)\n",
      "initial_state: (15, 2, 0)\n",
      "initial_state: (9, 5, 0)\n",
      "initial_state: (15, 8, 0)\n",
      "initial_state: (15, 10, 0)\n",
      "initial_state: (16, 10, 0)\n",
      "initial_state: (21, 1, 1)\n",
      "initial_state: (8, 3, 0)\n",
      "initial_state: (17, 4, 0)\n",
      "initial_state: (19, 5, 1)\n",
      "initial_state: (20, 10, 0)\n",
      "initial_state: (5, 5, 0)\n",
      "initial_state: (12, 5, 0)\n",
      "initial_state: (11, 6, 0)\n",
      "initial_state: (20, 10, 0)\n",
      "initial_state: (20, 4, 0)\n",
      "initial_state: (13, 4, 1)\n",
      "initial_state: (6, 10, 0)\n",
      "initial_state: (20, 2, 0)\n",
      "initial_state: (20, 10, 0)\n",
      "initial_state: (20, 3, 0)\n",
      "initial_state: (14, 3, 0)\n",
      "initial_state: (20, 10, 0)\n",
      "initial_state: (12, 10, 0)\n",
      "initial_state: (16, 10, 0)\n",
      "initial_state: (13, 10, 0)\n",
      "initial_state: (18, 5, 0)\n",
      "initial_state: (16, 3, 0)\n",
      "initial_state: (12, 5, 0)\n",
      "initial_state: (16, 2, 0)\n",
      "initial_state: (12, 1, 0)\n",
      "initial_state: (21, 6, 1)\n",
      "initial_state: (16, 1, 0)\n",
      "initial_state: (17, 10, 0)\n",
      "initial_state: (18, 8, 0)\n",
      "initial_state: (12, 10, 1)\n",
      "initial_state: (12, 6, 0)\n",
      "initial_state: (10, 10, 0)\n",
      "initial_state: (15, 1, 0)\n",
      "initial_state: (20, 5, 0)\n",
      "initial_state: (12, 2, 0)\n",
      "initial_state: (15, 9, 0)\n",
      "initial_state: (10, 1, 0)\n",
      "initial_state: (8, 10, 0)\n",
      "initial_state: (14, 10, 1)\n",
      "initial_state: (13, 4, 0)\n",
      "initial_state: (13, 6, 0)\n",
      "initial_state: (13, 8, 0)\n",
      "initial_state: (19, 2, 0)\n",
      "initial_state: (21, 2, 1)\n",
      "initial_state: (20, 10, 0)\n",
      "initial_state: (19, 10, 0)\n",
      "initial_state: (12, 2, 0)\n",
      "initial_state: (18, 10, 0)\n",
      "initial_state: (12, 10, 0)\n",
      "initial_state: (12, 3, 0)\n",
      "initial_state: (11, 3, 0)\n",
      "initial_state: (11, 4, 0)\n",
      "initial_state: (19, 1, 0)\n",
      "initial_state: (15, 3, 0)\n",
      "initial_state: (21, 10, 1)\n",
      "initial_state: (16, 6, 0)\n",
      "initial_state: (19, 2, 0)\n",
      "initial_state: (17, 10, 1)\n"
     ]
    }
   ],
   "source": [
    "## main Q-function training loop on the blackjack environment\n",
    "\n",
    "# NOTE: We'll need to find a way to save the trained policy\n",
    "E = num_epochs\n",
    "T = num_timesteps_per_epoch\n",
    "for epoch in range(E):\n",
    "  timestep = 0\n",
    "  initial_state, info = blackjack_q_learning_env.reset()\n",
    "  print(f\"initial_state: {initial_state}\")\n",
    "  "
   ]
  },
  {
   "cell_type": "code",
   "execution_count": null,
   "id": "ac05dfeb",
   "metadata": {},
   "outputs": [],
   "source": []
  }
 ],
 "metadata": {
  "kernelspec": {
   "display_name": "gymnasium",
   "language": "python",
   "name": "python3"
  },
  "language_info": {
   "codemirror_mode": {
    "name": "ipython",
    "version": 3
   },
   "file_extension": ".py",
   "mimetype": "text/x-python",
   "name": "python",
   "nbconvert_exporter": "python",
   "pygments_lexer": "ipython3",
   "version": "3.10.17"
  }
 },
 "nbformat": 4,
 "nbformat_minor": 5
}
